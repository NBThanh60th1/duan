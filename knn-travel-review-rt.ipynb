{
 "cells": [
  {
   "cell_type": "markdown",
   "metadata": {},
   "source": [
    "###### Import the necessary dependencies"
   ]
  },
  {
   "cell_type": "code",
   "execution_count": 1,
   "metadata": {
    "execution": {
     "iopub.execute_input": "2022-04-16T11:37:30.525744Z",
     "iopub.status.busy": "2022-04-16T11:37:30.524941Z",
     "iopub.status.idle": "2022-04-16T11:37:30.534865Z",
     "shell.execute_reply": "2022-04-16T11:37:30.533518Z",
     "shell.execute_reply.started": "2022-04-16T11:37:30.525670Z"
    }
   },
   "outputs": [],
   "source": [
    "import pandas as pd\n",
    "import numpy as np\n",
    "import os\n",
    "import warnings\n",
    "warnings.filterwarnings(\"ignore\", category = RuntimeWarning)"
   ]
  },
  {
   "cell_type": "code",
   "execution_count": 2,
   "metadata": {
    "execution": {
     "iopub.execute_input": "2022-04-16T11:37:30.537891Z",
     "iopub.status.busy": "2022-04-16T11:37:30.536934Z",
     "iopub.status.idle": "2022-04-16T11:37:30.619976Z",
     "shell.execute_reply": "2022-04-16T11:37:30.618467Z",
     "shell.execute_reply.started": "2022-04-16T11:37:30.537807Z"
    }
   },
   "outputs": [],
   "source": [
    "input_data = pd.read_csv('../input/travel-review-ratings/google_review_ratings.csv')"
   ]
  },
  {
   "cell_type": "code",
   "execution_count": 3,
   "metadata": {
    "execution": {
     "iopub.execute_input": "2022-04-16T11:37:30.621877Z",
     "iopub.status.busy": "2022-04-16T11:37:30.621544Z",
     "iopub.status.idle": "2022-04-16T11:37:30.629406Z",
     "shell.execute_reply": "2022-04-16T11:37:30.628656Z",
     "shell.execute_reply.started": "2022-04-16T11:37:30.621809Z"
    }
   },
   "outputs": [
    {
     "data": {
      "text/plain": [
       "(5456, 26)"
      ]
     },
     "execution_count": 3,
     "metadata": {},
     "output_type": "execute_result"
    }
   ],
   "source": [
    "input_data.shape"
   ]
  },
  {
   "cell_type": "code",
   "execution_count": 4,
   "metadata": {
    "execution": {
     "iopub.execute_input": "2022-04-16T11:37:30.631311Z",
     "iopub.status.busy": "2022-04-16T11:37:30.630810Z",
     "iopub.status.idle": "2022-04-16T11:37:30.645946Z",
     "shell.execute_reply": "2022-04-16T11:37:30.645071Z",
     "shell.execute_reply.started": "2022-04-16T11:37:30.631255Z"
    }
   },
   "outputs": [
    {
     "data": {
      "text/plain": [
       "Index(['User', 'Category 1', 'Category 2', 'Category 3', 'Category 4',\n",
       "       'Category 5', 'Category 6', 'Category 7', 'Category 8', 'Category 9',\n",
       "       'Category 10', 'Category 11', 'Category 12', 'Category 13',\n",
       "       'Category 14', 'Category 15', 'Category 16', 'Category 17',\n",
       "       'Category 18', 'Category 19', 'Category 20', 'Category 21',\n",
       "       'Category 22', 'Category 23', 'Category 24', 'Unnamed: 25'],\n",
       "      dtype='object')"
      ]
     },
     "execution_count": 4,
     "metadata": {},
     "output_type": "execute_result"
    }
   ],
   "source": [
    "input_data.columns"
   ]
  },
  {
   "cell_type": "code",
   "execution_count": 5,
   "metadata": {
    "execution": {
     "iopub.execute_input": "2022-04-16T11:37:30.647829Z",
     "iopub.status.busy": "2022-04-16T11:37:30.647274Z",
     "iopub.status.idle": "2022-04-16T11:37:30.738136Z",
     "shell.execute_reply": "2022-04-16T11:37:30.737292Z",
     "shell.execute_reply.started": "2022-04-16T11:37:30.647541Z"
    }
   },
   "outputs": [
    {
     "data": {
      "text/html": [
       "<div>\n",
       "<style scoped>\n",
       "    .dataframe tbody tr th:only-of-type {\n",
       "        vertical-align: middle;\n",
       "    }\n",
       "\n",
       "    .dataframe tbody tr th {\n",
       "        vertical-align: top;\n",
       "    }\n",
       "\n",
       "    .dataframe thead th {\n",
       "        text-align: right;\n",
       "    }\n",
       "</style>\n",
       "<table border=\"1\" class=\"dataframe\">\n",
       "  <thead>\n",
       "    <tr style=\"text-align: right;\">\n",
       "      <th></th>\n",
       "      <th>User</th>\n",
       "      <th>Category 1</th>\n",
       "      <th>Category 2</th>\n",
       "      <th>Category 3</th>\n",
       "      <th>Category 4</th>\n",
       "      <th>Category 5</th>\n",
       "      <th>Category 6</th>\n",
       "      <th>Category 7</th>\n",
       "      <th>Category 8</th>\n",
       "      <th>Category 9</th>\n",
       "      <th>Category 10</th>\n",
       "      <th>Category 11</th>\n",
       "      <th>Category 12</th>\n",
       "      <th>Category 13</th>\n",
       "      <th>Category 14</th>\n",
       "      <th>Category 15</th>\n",
       "      <th>Category 16</th>\n",
       "      <th>Category 17</th>\n",
       "      <th>Category 18</th>\n",
       "      <th>Category 19</th>\n",
       "      <th>Category 20</th>\n",
       "      <th>Category 21</th>\n",
       "      <th>Category 22</th>\n",
       "      <th>Category 23</th>\n",
       "      <th>Category 24</th>\n",
       "      <th>Unnamed: 25</th>\n",
       "    </tr>\n",
       "  </thead>\n",
       "  <tbody>\n",
       "    <tr>\n",
       "      <th>0</th>\n",
       "      <td>User 1</td>\n",
       "      <td>0.0</td>\n",
       "      <td>0.0</td>\n",
       "      <td>3.63</td>\n",
       "      <td>3.65</td>\n",
       "      <td>5.0</td>\n",
       "      <td>2.92</td>\n",
       "      <td>5.0</td>\n",
       "      <td>2.35</td>\n",
       "      <td>2.33</td>\n",
       "      <td>2.64</td>\n",
       "      <td>1.7</td>\n",
       "      <td>1.69</td>\n",
       "      <td>1.7</td>\n",
       "      <td>1.72</td>\n",
       "      <td>1.74</td>\n",
       "      <td>0.59</td>\n",
       "      <td>0.5</td>\n",
       "      <td>0.0</td>\n",
       "      <td>0.5</td>\n",
       "      <td>0.0</td>\n",
       "      <td>0.0</td>\n",
       "      <td>0.0</td>\n",
       "      <td>0.0</td>\n",
       "      <td>0.0</td>\n",
       "      <td>NaN</td>\n",
       "    </tr>\n",
       "    <tr>\n",
       "      <th>1</th>\n",
       "      <td>User 2</td>\n",
       "      <td>0.0</td>\n",
       "      <td>0.0</td>\n",
       "      <td>3.63</td>\n",
       "      <td>3.65</td>\n",
       "      <td>5.0</td>\n",
       "      <td>2.92</td>\n",
       "      <td>5.0</td>\n",
       "      <td>2.64</td>\n",
       "      <td>2.33</td>\n",
       "      <td>2.65</td>\n",
       "      <td>1.7</td>\n",
       "      <td>1.69</td>\n",
       "      <td>1.7</td>\n",
       "      <td>1.72</td>\n",
       "      <td>1.74</td>\n",
       "      <td>0.59</td>\n",
       "      <td>0.5</td>\n",
       "      <td>0.0</td>\n",
       "      <td>0.5</td>\n",
       "      <td>0.0</td>\n",
       "      <td>0.0</td>\n",
       "      <td>0.0</td>\n",
       "      <td>0.0</td>\n",
       "      <td>0.0</td>\n",
       "      <td>NaN</td>\n",
       "    </tr>\n",
       "    <tr>\n",
       "      <th>2</th>\n",
       "      <td>User 3</td>\n",
       "      <td>0.0</td>\n",
       "      <td>0.0</td>\n",
       "      <td>3.63</td>\n",
       "      <td>3.63</td>\n",
       "      <td>5.0</td>\n",
       "      <td>2.92</td>\n",
       "      <td>5.0</td>\n",
       "      <td>2.64</td>\n",
       "      <td>2.33</td>\n",
       "      <td>2.64</td>\n",
       "      <td>1.7</td>\n",
       "      <td>1.69</td>\n",
       "      <td>1.7</td>\n",
       "      <td>1.72</td>\n",
       "      <td>1.74</td>\n",
       "      <td>0.59</td>\n",
       "      <td>0.5</td>\n",
       "      <td>0.0</td>\n",
       "      <td>0.5</td>\n",
       "      <td>0.0</td>\n",
       "      <td>0.0</td>\n",
       "      <td>0.0</td>\n",
       "      <td>0.0</td>\n",
       "      <td>0.0</td>\n",
       "      <td>NaN</td>\n",
       "    </tr>\n",
       "    <tr>\n",
       "      <th>3</th>\n",
       "      <td>User 4</td>\n",
       "      <td>0.0</td>\n",
       "      <td>0.5</td>\n",
       "      <td>3.63</td>\n",
       "      <td>3.63</td>\n",
       "      <td>5.0</td>\n",
       "      <td>2.92</td>\n",
       "      <td>5.0</td>\n",
       "      <td>2.35</td>\n",
       "      <td>2.33</td>\n",
       "      <td>2.64</td>\n",
       "      <td>1.73</td>\n",
       "      <td>1.69</td>\n",
       "      <td>1.7</td>\n",
       "      <td>1.72</td>\n",
       "      <td>1.74</td>\n",
       "      <td>0.59</td>\n",
       "      <td>0.5</td>\n",
       "      <td>0.0</td>\n",
       "      <td>0.5</td>\n",
       "      <td>0.0</td>\n",
       "      <td>0.0</td>\n",
       "      <td>0.0</td>\n",
       "      <td>0.0</td>\n",
       "      <td>0.0</td>\n",
       "      <td>NaN</td>\n",
       "    </tr>\n",
       "    <tr>\n",
       "      <th>4</th>\n",
       "      <td>User 5</td>\n",
       "      <td>0.0</td>\n",
       "      <td>0.0</td>\n",
       "      <td>3.63</td>\n",
       "      <td>3.63</td>\n",
       "      <td>5.0</td>\n",
       "      <td>2.92</td>\n",
       "      <td>5.0</td>\n",
       "      <td>2.64</td>\n",
       "      <td>2.33</td>\n",
       "      <td>2.64</td>\n",
       "      <td>1.7</td>\n",
       "      <td>1.69</td>\n",
       "      <td>1.7</td>\n",
       "      <td>1.72</td>\n",
       "      <td>1.74</td>\n",
       "      <td>0.59</td>\n",
       "      <td>0.5</td>\n",
       "      <td>0.0</td>\n",
       "      <td>0.5</td>\n",
       "      <td>0.0</td>\n",
       "      <td>0.0</td>\n",
       "      <td>0.0</td>\n",
       "      <td>0.0</td>\n",
       "      <td>0.0</td>\n",
       "      <td>NaN</td>\n",
       "    </tr>\n",
       "  </tbody>\n",
       "</table>\n",
       "</div>"
      ],
      "text/plain": [
       "     User  Category 1     ...       Category 24  Unnamed: 25\n",
       "0  User 1         0.0     ...               0.0          NaN\n",
       "1  User 2         0.0     ...               0.0          NaN\n",
       "2  User 3         0.0     ...               0.0          NaN\n",
       "3  User 4         0.0     ...               0.0          NaN\n",
       "4  User 5         0.0     ...               0.0          NaN\n",
       "\n",
       "[5 rows x 26 columns]"
      ]
     },
     "execution_count": 5,
     "metadata": {},
     "output_type": "execute_result"
    }
   ],
   "source": [
    "input_data.head(5)"
   ]
  },
  {
   "cell_type": "markdown",
   "metadata": {},
   "source": [
    "###### Data Cleaning and Preprocessing"
   ]
  },
  {
   "cell_type": "code",
   "execution_count": 6,
   "metadata": {
    "execution": {
     "iopub.execute_input": "2022-04-16T11:37:30.739748Z",
     "iopub.status.busy": "2022-04-16T11:37:30.739362Z",
     "iopub.status.idle": "2022-04-16T11:37:30.756029Z",
     "shell.execute_reply": "2022-04-16T11:37:30.755272Z",
     "shell.execute_reply.started": "2022-04-16T11:37:30.739705Z"
    }
   },
   "outputs": [
    {
     "name": "stdout",
     "output_type": "stream",
     "text": [
      "<class 'pandas.core.frame.DataFrame'>\n",
      "RangeIndex: 5456 entries, 0 to 5455\n",
      "Data columns (total 26 columns):\n",
      "User           5456 non-null object\n",
      "Category 1     5456 non-null float64\n",
      "Category 2     5456 non-null float64\n",
      "Category 3     5456 non-null float64\n",
      "Category 4     5456 non-null float64\n",
      "Category 5     5456 non-null float64\n",
      "Category 6     5456 non-null float64\n",
      "Category 7     5456 non-null float64\n",
      "Category 8     5456 non-null float64\n",
      "Category 9     5456 non-null float64\n",
      "Category 10    5456 non-null float64\n",
      "Category 11    5456 non-null object\n",
      "Category 12    5455 non-null float64\n",
      "Category 13    5456 non-null float64\n",
      "Category 14    5456 non-null float64\n",
      "Category 15    5456 non-null float64\n",
      "Category 16    5456 non-null float64\n",
      "Category 17    5456 non-null float64\n",
      "Category 18    5456 non-null float64\n",
      "Category 19    5456 non-null float64\n",
      "Category 20    5456 non-null float64\n",
      "Category 21    5456 non-null float64\n",
      "Category 22    5456 non-null float64\n",
      "Category 23    5456 non-null float64\n",
      "Category 24    5455 non-null float64\n",
      "Unnamed: 25    2 non-null float64\n",
      "dtypes: float64(24), object(2)\n",
      "memory usage: 1.1+ MB\n"
     ]
    }
   ],
   "source": [
    "input_data.info()"
   ]
  },
  {
   "cell_type": "markdown",
   "metadata": {},
   "source": [
    "There are only 2 non null values in the last column. There are only 24 categories described in the dataset description and the last column is not present there. So let's drop the column"
   ]
  },
  {
   "cell_type": "code",
   "execution_count": 7,
   "metadata": {
    "execution": {
     "iopub.execute_input": "2022-04-16T11:37:30.757854Z",
     "iopub.status.busy": "2022-04-16T11:37:30.757439Z",
     "iopub.status.idle": "2022-04-16T11:37:30.764468Z",
     "shell.execute_reply": "2022-04-16T11:37:30.763384Z",
     "shell.execute_reply.started": "2022-04-16T11:37:30.757810Z"
    }
   },
   "outputs": [],
   "source": [
    "input_data.drop('Unnamed: 25', axis = 1, inplace = True)"
   ]
  },
  {
   "cell_type": "markdown",
   "metadata": {},
   "source": [
    "Renaming the columns for ease of understanding"
   ]
  },
  {
   "cell_type": "code",
   "execution_count": 8,
   "metadata": {
    "execution": {
     "iopub.execute_input": "2022-04-16T11:37:30.766456Z",
     "iopub.status.busy": "2022-04-16T11:37:30.766083Z",
     "iopub.status.idle": "2022-04-16T11:37:30.778625Z",
     "shell.execute_reply": "2022-04-16T11:37:30.777523Z",
     "shell.execute_reply.started": "2022-04-16T11:37:30.766389Z"
    }
   },
   "outputs": [],
   "source": [
    "column_names = ['user_id', 'churches', 'resorts', 'beaches', 'parks', 'theatres', 'museums', 'malls', 'zoo', 'restaurants', 'pubs_bars', 'local_services', 'burger_pizza_shops', 'hotels_other_lodgings', 'juice_bars', 'art_galleries', 'dance_clubs', 'swimming_pools', 'gyms', 'bakeries', 'beauty_spas', 'cafes', 'view_points', 'monuments', 'gardens']\n",
    "input_data.columns = column_names"
   ]
  },
  {
   "cell_type": "code",
   "execution_count": 9,
   "metadata": {
    "execution": {
     "iopub.execute_input": "2022-04-16T11:37:30.781858Z",
     "iopub.status.busy": "2022-04-16T11:37:30.781220Z",
     "iopub.status.idle": "2022-04-16T11:37:30.809507Z",
     "shell.execute_reply": "2022-04-16T11:37:30.808275Z",
     "shell.execute_reply.started": "2022-04-16T11:37:30.781786Z"
    }
   },
   "outputs": [
    {
     "data": {
      "text/plain": [
       "user_id                  0\n",
       "churches                 0\n",
       "resorts                  0\n",
       "beaches                  0\n",
       "parks                    0\n",
       "theatres                 0\n",
       "museums                  0\n",
       "malls                    0\n",
       "zoo                      0\n",
       "restaurants              0\n",
       "pubs_bars                0\n",
       "local_services           0\n",
       "burger_pizza_shops       1\n",
       "hotels_other_lodgings    0\n",
       "juice_bars               0\n",
       "art_galleries            0\n",
       "dance_clubs              0\n",
       "swimming_pools           0\n",
       "gyms                     0\n",
       "bakeries                 0\n",
       "beauty_spas              0\n",
       "cafes                    0\n",
       "view_points              0\n",
       "monuments                0\n",
       "gardens                  1\n",
       "dtype: int64"
      ]
     },
     "execution_count": 9,
     "metadata": {},
     "output_type": "execute_result"
    }
   ],
   "source": [
    "input_data[column_names].isnull().sum()"
   ]
  },
  {
   "cell_type": "markdown",
   "metadata": {},
   "source": [
    "There are two columns with one null value each. Let us impute the null values with 0 considering that the user didn't give rating to these categories"
   ]
  },
  {
   "cell_type": "code",
   "execution_count": 10,
   "metadata": {
    "execution": {
     "iopub.execute_input": "2022-04-16T11:37:30.812376Z",
     "iopub.status.busy": "2022-04-16T11:37:30.811953Z",
     "iopub.status.idle": "2022-04-16T11:37:30.822925Z",
     "shell.execute_reply": "2022-04-16T11:37:30.821625Z",
     "shell.execute_reply.started": "2022-04-16T11:37:30.812305Z"
    }
   },
   "outputs": [],
   "source": [
    "input_data = input_data.fillna(0)"
   ]
  },
  {
   "cell_type": "code",
   "execution_count": 11,
   "metadata": {
    "execution": {
     "iopub.execute_input": "2022-04-16T11:37:30.825167Z",
     "iopub.status.busy": "2022-04-16T11:37:30.824487Z",
     "iopub.status.idle": "2022-04-16T11:37:30.839901Z",
     "shell.execute_reply": "2022-04-16T11:37:30.838839Z",
     "shell.execute_reply.started": "2022-04-16T11:37:30.825057Z"
    }
   },
   "outputs": [
    {
     "data": {
      "text/plain": [
       "user_id                   object\n",
       "churches                 float64\n",
       "resorts                  float64\n",
       "beaches                  float64\n",
       "parks                    float64\n",
       "theatres                 float64\n",
       "museums                  float64\n",
       "malls                    float64\n",
       "zoo                      float64\n",
       "restaurants              float64\n",
       "pubs_bars                float64\n",
       "local_services            object\n",
       "burger_pizza_shops       float64\n",
       "hotels_other_lodgings    float64\n",
       "juice_bars               float64\n",
       "art_galleries            float64\n",
       "dance_clubs              float64\n",
       "swimming_pools           float64\n",
       "gyms                     float64\n",
       "bakeries                 float64\n",
       "beauty_spas              float64\n",
       "cafes                    float64\n",
       "view_points              float64\n",
       "monuments                float64\n",
       "gardens                  float64\n",
       "dtype: object"
      ]
     },
     "execution_count": 11,
     "metadata": {},
     "output_type": "execute_result"
    }
   ],
   "source": [
    "input_data.dtypes"
   ]
  },
  {
   "cell_type": "markdown",
   "metadata": {},
   "source": [
    "Converting the column 'local services' to float datatype"
   ]
  },
  {
   "cell_type": "markdown",
   "metadata": {},
   "source": [
    "There is a string present among the rows. Let's check how many rows have such values and convert them to float"
   ]
  },
  {
   "cell_type": "code",
   "execution_count": 12,
   "metadata": {
    "execution": {
     "iopub.execute_input": "2022-04-16T11:37:30.842594Z",
     "iopub.status.busy": "2022-04-16T11:37:30.841810Z",
     "iopub.status.idle": "2022-04-16T11:37:30.859890Z",
     "shell.execute_reply": "2022-04-16T11:37:30.858834Z",
     "shell.execute_reply.started": "2022-04-16T11:37:30.842167Z"
    }
   },
   "outputs": [
    {
     "data": {
      "text/plain": [
       "2712    2\\t2.\n",
       "Name: local_services, dtype: object"
      ]
     },
     "execution_count": 12,
     "metadata": {},
     "output_type": "execute_result"
    }
   ],
   "source": [
    "input_data['local_services'][input_data['local_services'] == '2\\t2.']"
   ]
  },
  {
   "cell_type": "markdown",
   "metadata": {},
   "source": [
    "There is only one row with that value. Let us replace that value with the mean of the rest of the rows"
   ]
  },
  {
   "cell_type": "code",
   "execution_count": 13,
   "metadata": {
    "execution": {
     "iopub.execute_input": "2022-04-16T11:37:30.862393Z",
     "iopub.status.busy": "2022-04-16T11:37:30.861685Z",
     "iopub.status.idle": "2022-04-16T11:37:30.964324Z",
     "shell.execute_reply": "2022-04-16T11:37:30.963348Z",
     "shell.execute_reply.started": "2022-04-16T11:37:30.862324Z"
    }
   },
   "outputs": [
    {
     "name": "stderr",
     "output_type": "stream",
     "text": [
      "/opt/conda/lib/python3.6/site-packages/ipykernel_launcher.py:2: SettingWithCopyWarning: \n",
      "A value is trying to be set on a copy of a slice from a DataFrame\n",
      "\n",
      "See the caveats in the documentation: http://pandas.pydata.org/pandas-docs/stable/indexing.html#indexing-view-versus-copy\n",
      "  \n"
     ]
    }
   ],
   "source": [
    "local_services_mean = input_data['local_services'][input_data['local_services'] != '2\\t2.']\n",
    "input_data['local_services'][input_data['local_services'] == '2\\t2.'] = np.mean(local_services_mean.astype('float64'))\n",
    "input_data['local_services'] = input_data['local_services'].astype('float64')"
   ]
  },
  {
   "cell_type": "code",
   "execution_count": 14,
   "metadata": {
    "execution": {
     "iopub.execute_input": "2022-04-16T11:37:30.965940Z",
     "iopub.status.busy": "2022-04-16T11:37:30.965482Z",
     "iopub.status.idle": "2022-04-16T11:37:30.975377Z",
     "shell.execute_reply": "2022-04-16T11:37:30.974258Z",
     "shell.execute_reply.started": "2022-04-16T11:37:30.965878Z"
    }
   },
   "outputs": [
    {
     "data": {
      "text/plain": [
       "user_id                   object\n",
       "churches                 float64\n",
       "resorts                  float64\n",
       "beaches                  float64\n",
       "parks                    float64\n",
       "theatres                 float64\n",
       "museums                  float64\n",
       "malls                    float64\n",
       "zoo                      float64\n",
       "restaurants              float64\n",
       "pubs_bars                float64\n",
       "local_services           float64\n",
       "burger_pizza_shops       float64\n",
       "hotels_other_lodgings    float64\n",
       "juice_bars               float64\n",
       "art_galleries            float64\n",
       "dance_clubs              float64\n",
       "swimming_pools           float64\n",
       "gyms                     float64\n",
       "bakeries                 float64\n",
       "beauty_spas              float64\n",
       "cafes                    float64\n",
       "view_points              float64\n",
       "monuments                float64\n",
       "gardens                  float64\n",
       "dtype: object"
      ]
     },
     "execution_count": 14,
     "metadata": {},
     "output_type": "execute_result"
    }
   ],
   "source": [
    "input_data.dtypes"
   ]
  },
  {
   "cell_type": "markdown",
   "metadata": {},
   "source": [
    "###### Exploratory Data Analysis"
   ]
  },
  {
   "cell_type": "code",
   "execution_count": 15,
   "metadata": {
    "execution": {
     "iopub.execute_input": "2022-04-16T11:37:30.977356Z",
     "iopub.status.busy": "2022-04-16T11:37:30.976838Z",
     "iopub.status.idle": "2022-04-16T11:37:31.059823Z",
     "shell.execute_reply": "2022-04-16T11:37:31.058759Z",
     "shell.execute_reply.started": "2022-04-16T11:37:30.977248Z"
    }
   },
   "outputs": [
    {
     "data": {
      "text/html": [
       "<div>\n",
       "<style scoped>\n",
       "    .dataframe tbody tr th:only-of-type {\n",
       "        vertical-align: middle;\n",
       "    }\n",
       "\n",
       "    .dataframe tbody tr th {\n",
       "        vertical-align: top;\n",
       "    }\n",
       "\n",
       "    .dataframe thead th {\n",
       "        text-align: right;\n",
       "    }\n",
       "</style>\n",
       "<table border=\"1\" class=\"dataframe\">\n",
       "  <thead>\n",
       "    <tr style=\"text-align: right;\">\n",
       "      <th></th>\n",
       "      <th>churches</th>\n",
       "      <th>resorts</th>\n",
       "      <th>beaches</th>\n",
       "      <th>parks</th>\n",
       "      <th>theatres</th>\n",
       "      <th>museums</th>\n",
       "      <th>malls</th>\n",
       "      <th>zoo</th>\n",
       "      <th>restaurants</th>\n",
       "      <th>pubs_bars</th>\n",
       "      <th>local_services</th>\n",
       "    </tr>\n",
       "  </thead>\n",
       "  <tbody>\n",
       "    <tr>\n",
       "      <th>count</th>\n",
       "      <td>5456.000000</td>\n",
       "      <td>5456.000000</td>\n",
       "      <td>5456.000000</td>\n",
       "      <td>5456.000000</td>\n",
       "      <td>5456.000000</td>\n",
       "      <td>5456.00000</td>\n",
       "      <td>5456.000000</td>\n",
       "      <td>5456.000000</td>\n",
       "      <td>5456.000000</td>\n",
       "      <td>5456.000000</td>\n",
       "      <td>5456.000000</td>\n",
       "    </tr>\n",
       "    <tr>\n",
       "      <th>mean</th>\n",
       "      <td>1.455720</td>\n",
       "      <td>2.319707</td>\n",
       "      <td>2.489331</td>\n",
       "      <td>2.796886</td>\n",
       "      <td>2.958941</td>\n",
       "      <td>2.89349</td>\n",
       "      <td>3.351395</td>\n",
       "      <td>2.540795</td>\n",
       "      <td>3.126019</td>\n",
       "      <td>2.832729</td>\n",
       "      <td>2.550071</td>\n",
       "    </tr>\n",
       "    <tr>\n",
       "      <th>std</th>\n",
       "      <td>0.827604</td>\n",
       "      <td>1.421438</td>\n",
       "      <td>1.247815</td>\n",
       "      <td>1.309159</td>\n",
       "      <td>1.339056</td>\n",
       "      <td>1.28240</td>\n",
       "      <td>1.413492</td>\n",
       "      <td>1.111391</td>\n",
       "      <td>1.356802</td>\n",
       "      <td>1.307665</td>\n",
       "      <td>1.381643</td>\n",
       "    </tr>\n",
       "    <tr>\n",
       "      <th>min</th>\n",
       "      <td>0.000000</td>\n",
       "      <td>0.000000</td>\n",
       "      <td>0.000000</td>\n",
       "      <td>0.830000</td>\n",
       "      <td>1.120000</td>\n",
       "      <td>1.11000</td>\n",
       "      <td>1.120000</td>\n",
       "      <td>0.860000</td>\n",
       "      <td>0.840000</td>\n",
       "      <td>0.810000</td>\n",
       "      <td>0.780000</td>\n",
       "    </tr>\n",
       "    <tr>\n",
       "      <th>25%</th>\n",
       "      <td>0.920000</td>\n",
       "      <td>1.360000</td>\n",
       "      <td>1.540000</td>\n",
       "      <td>1.730000</td>\n",
       "      <td>1.770000</td>\n",
       "      <td>1.79000</td>\n",
       "      <td>1.930000</td>\n",
       "      <td>1.620000</td>\n",
       "      <td>1.800000</td>\n",
       "      <td>1.640000</td>\n",
       "      <td>1.580000</td>\n",
       "    </tr>\n",
       "    <tr>\n",
       "      <th>50%</th>\n",
       "      <td>1.340000</td>\n",
       "      <td>1.905000</td>\n",
       "      <td>2.060000</td>\n",
       "      <td>2.460000</td>\n",
       "      <td>2.670000</td>\n",
       "      <td>2.68000</td>\n",
       "      <td>3.230000</td>\n",
       "      <td>2.170000</td>\n",
       "      <td>2.800000</td>\n",
       "      <td>2.680000</td>\n",
       "      <td>2.000000</td>\n",
       "    </tr>\n",
       "    <tr>\n",
       "      <th>75%</th>\n",
       "      <td>1.810000</td>\n",
       "      <td>2.682500</td>\n",
       "      <td>2.740000</td>\n",
       "      <td>4.092500</td>\n",
       "      <td>4.312500</td>\n",
       "      <td>3.84000</td>\n",
       "      <td>5.000000</td>\n",
       "      <td>3.190000</td>\n",
       "      <td>5.000000</td>\n",
       "      <td>3.530000</td>\n",
       "      <td>3.220000</td>\n",
       "    </tr>\n",
       "    <tr>\n",
       "      <th>max</th>\n",
       "      <td>5.000000</td>\n",
       "      <td>5.000000</td>\n",
       "      <td>5.000000</td>\n",
       "      <td>5.000000</td>\n",
       "      <td>5.000000</td>\n",
       "      <td>5.00000</td>\n",
       "      <td>5.000000</td>\n",
       "      <td>5.000000</td>\n",
       "      <td>5.000000</td>\n",
       "      <td>5.000000</td>\n",
       "      <td>5.000000</td>\n",
       "    </tr>\n",
       "  </tbody>\n",
       "</table>\n",
       "</div>"
      ],
      "text/plain": [
       "          churches      resorts       ...          pubs_bars  local_services\n",
       "count  5456.000000  5456.000000       ...        5456.000000     5456.000000\n",
       "mean      1.455720     2.319707       ...           2.832729        2.550071\n",
       "std       0.827604     1.421438       ...           1.307665        1.381643\n",
       "min       0.000000     0.000000       ...           0.810000        0.780000\n",
       "25%       0.920000     1.360000       ...           1.640000        1.580000\n",
       "50%       1.340000     1.905000       ...           2.680000        2.000000\n",
       "75%       1.810000     2.682500       ...           3.530000        3.220000\n",
       "max       5.000000     5.000000       ...           5.000000        5.000000\n",
       "\n",
       "[8 rows x 11 columns]"
      ]
     },
     "execution_count": 15,
     "metadata": {},
     "output_type": "execute_result"
    }
   ],
   "source": [
    "input_data[column_names[:12]].describe()"
   ]
  },
  {
   "cell_type": "code",
   "execution_count": 16,
   "metadata": {
    "execution": {
     "iopub.execute_input": "2022-04-16T11:37:31.061650Z",
     "iopub.status.busy": "2022-04-16T11:37:31.061383Z",
     "iopub.status.idle": "2022-04-16T11:37:31.145286Z",
     "shell.execute_reply": "2022-04-16T11:37:31.144171Z",
     "shell.execute_reply.started": "2022-04-16T11:37:31.061604Z"
    }
   },
   "outputs": [
    {
     "data": {
      "text/html": [
       "<div>\n",
       "<style scoped>\n",
       "    .dataframe tbody tr th:only-of-type {\n",
       "        vertical-align: middle;\n",
       "    }\n",
       "\n",
       "    .dataframe tbody tr th {\n",
       "        vertical-align: top;\n",
       "    }\n",
       "\n",
       "    .dataframe thead th {\n",
       "        text-align: right;\n",
       "    }\n",
       "</style>\n",
       "<table border=\"1\" class=\"dataframe\">\n",
       "  <thead>\n",
       "    <tr style=\"text-align: right;\">\n",
       "      <th></th>\n",
       "      <th>burger_pizza_shops</th>\n",
       "      <th>hotels_other_lodgings</th>\n",
       "      <th>juice_bars</th>\n",
       "      <th>art_galleries</th>\n",
       "      <th>dance_clubs</th>\n",
       "      <th>swimming_pools</th>\n",
       "      <th>gyms</th>\n",
       "      <th>bakeries</th>\n",
       "      <th>beauty_spas</th>\n",
       "      <th>cafes</th>\n",
       "      <th>view_points</th>\n",
       "      <th>monuments</th>\n",
       "      <th>gardens</th>\n",
       "    </tr>\n",
       "  </thead>\n",
       "  <tbody>\n",
       "    <tr>\n",
       "      <th>count</th>\n",
       "      <td>5456.000000</td>\n",
       "      <td>5456.000000</td>\n",
       "      <td>5456.000000</td>\n",
       "      <td>5456.000000</td>\n",
       "      <td>5456.000000</td>\n",
       "      <td>5456.000000</td>\n",
       "      <td>5456.000000</td>\n",
       "      <td>5456.000000</td>\n",
       "      <td>5456.000000</td>\n",
       "      <td>5456.000000</td>\n",
       "      <td>5456.000000</td>\n",
       "      <td>5456.000000</td>\n",
       "      <td>5456.000000</td>\n",
       "    </tr>\n",
       "    <tr>\n",
       "      <th>mean</th>\n",
       "      <td>2.077958</td>\n",
       "      <td>2.125511</td>\n",
       "      <td>2.190861</td>\n",
       "      <td>2.206573</td>\n",
       "      <td>1.192801</td>\n",
       "      <td>0.949203</td>\n",
       "      <td>0.822414</td>\n",
       "      <td>0.969811</td>\n",
       "      <td>1.000071</td>\n",
       "      <td>0.965838</td>\n",
       "      <td>1.750537</td>\n",
       "      <td>1.531453</td>\n",
       "      <td>1.560469</td>\n",
       "    </tr>\n",
       "    <tr>\n",
       "      <th>std</th>\n",
       "      <td>1.249411</td>\n",
       "      <td>1.406542</td>\n",
       "      <td>1.576686</td>\n",
       "      <td>1.715961</td>\n",
       "      <td>1.107005</td>\n",
       "      <td>0.973536</td>\n",
       "      <td>0.947911</td>\n",
       "      <td>1.203972</td>\n",
       "      <td>1.193891</td>\n",
       "      <td>0.929853</td>\n",
       "      <td>1.598734</td>\n",
       "      <td>1.316889</td>\n",
       "      <td>1.171840</td>\n",
       "    </tr>\n",
       "    <tr>\n",
       "      <th>min</th>\n",
       "      <td>0.000000</td>\n",
       "      <td>0.770000</td>\n",
       "      <td>0.760000</td>\n",
       "      <td>0.000000</td>\n",
       "      <td>0.000000</td>\n",
       "      <td>0.000000</td>\n",
       "      <td>0.000000</td>\n",
       "      <td>0.000000</td>\n",
       "      <td>0.000000</td>\n",
       "      <td>0.000000</td>\n",
       "      <td>0.000000</td>\n",
       "      <td>0.000000</td>\n",
       "      <td>0.000000</td>\n",
       "    </tr>\n",
       "    <tr>\n",
       "      <th>25%</th>\n",
       "      <td>1.290000</td>\n",
       "      <td>1.190000</td>\n",
       "      <td>1.030000</td>\n",
       "      <td>0.860000</td>\n",
       "      <td>0.690000</td>\n",
       "      <td>0.580000</td>\n",
       "      <td>0.530000</td>\n",
       "      <td>0.520000</td>\n",
       "      <td>0.540000</td>\n",
       "      <td>0.570000</td>\n",
       "      <td>0.740000</td>\n",
       "      <td>0.790000</td>\n",
       "      <td>0.880000</td>\n",
       "    </tr>\n",
       "    <tr>\n",
       "      <th>50%</th>\n",
       "      <td>1.690000</td>\n",
       "      <td>1.610000</td>\n",
       "      <td>1.490000</td>\n",
       "      <td>1.330000</td>\n",
       "      <td>0.800000</td>\n",
       "      <td>0.740000</td>\n",
       "      <td>0.690000</td>\n",
       "      <td>0.690000</td>\n",
       "      <td>0.690000</td>\n",
       "      <td>0.760000</td>\n",
       "      <td>1.030000</td>\n",
       "      <td>1.070000</td>\n",
       "      <td>1.290000</td>\n",
       "    </tr>\n",
       "    <tr>\n",
       "      <th>75%</th>\n",
       "      <td>2.282500</td>\n",
       "      <td>2.360000</td>\n",
       "      <td>2.740000</td>\n",
       "      <td>4.440000</td>\n",
       "      <td>1.160000</td>\n",
       "      <td>0.910000</td>\n",
       "      <td>0.840000</td>\n",
       "      <td>0.860000</td>\n",
       "      <td>0.860000</td>\n",
       "      <td>1.000000</td>\n",
       "      <td>2.070000</td>\n",
       "      <td>1.560000</td>\n",
       "      <td>1.660000</td>\n",
       "    </tr>\n",
       "    <tr>\n",
       "      <th>max</th>\n",
       "      <td>5.000000</td>\n",
       "      <td>5.000000</td>\n",
       "      <td>5.000000</td>\n",
       "      <td>5.000000</td>\n",
       "      <td>5.000000</td>\n",
       "      <td>5.000000</td>\n",
       "      <td>5.000000</td>\n",
       "      <td>5.000000</td>\n",
       "      <td>5.000000</td>\n",
       "      <td>5.000000</td>\n",
       "      <td>5.000000</td>\n",
       "      <td>5.000000</td>\n",
       "      <td>5.000000</td>\n",
       "    </tr>\n",
       "  </tbody>\n",
       "</table>\n",
       "</div>"
      ],
      "text/plain": [
       "       burger_pizza_shops     ...           gardens\n",
       "count         5456.000000     ...       5456.000000\n",
       "mean             2.077958     ...          1.560469\n",
       "std              1.249411     ...          1.171840\n",
       "min              0.000000     ...          0.000000\n",
       "25%              1.290000     ...          0.880000\n",
       "50%              1.690000     ...          1.290000\n",
       "75%              2.282500     ...          1.660000\n",
       "max              5.000000     ...          5.000000\n",
       "\n",
       "[8 rows x 13 columns]"
      ]
     },
     "execution_count": 16,
     "metadata": {},
     "output_type": "execute_result"
    }
   ],
   "source": [
    "input_data[column_names[12:]].describe()"
   ]
  },
  {
   "cell_type": "code",
   "execution_count": 17,
   "metadata": {
    "execution": {
     "iopub.execute_input": "2022-04-16T11:37:31.147909Z",
     "iopub.status.busy": "2022-04-16T11:37:31.147279Z",
     "iopub.status.idle": "2022-04-16T11:37:31.233867Z",
     "shell.execute_reply": "2022-04-16T11:37:31.232865Z",
     "shell.execute_reply.started": "2022-04-16T11:37:31.147833Z"
    }
   },
   "outputs": [
    {
     "data": {
      "text/plain": [
       "parks                    True\n",
       "theatres                 True\n",
       "museums                  True\n",
       "malls                    True\n",
       "zoo                      True\n",
       "restaurants              True\n",
       "pubs_bars                True\n",
       "local_services           True\n",
       "hotels_other_lodgings    True\n",
       "juice_bars               True\n",
       "Name: min, dtype: bool"
      ]
     },
     "execution_count": 17,
     "metadata": {},
     "output_type": "execute_result"
    }
   ],
   "source": [
    "input_data_description = input_data.describe()\n",
    "min_val = input_data_description.loc['min'] > 0\n",
    "min_val[min_val]"
   ]
  },
  {
   "cell_type": "markdown",
   "metadata": {},
   "source": [
    "The above 10 categories have been given a rating by all the users as the minimum value is greater than 0"
   ]
  },
  {
   "cell_type": "code",
   "execution_count": 18,
   "metadata": {
    "execution": {
     "iopub.execute_input": "2022-04-16T11:37:31.235782Z",
     "iopub.status.busy": "2022-04-16T11:37:31.235517Z",
     "iopub.status.idle": "2022-04-16T11:37:31.836039Z",
     "shell.execute_reply": "2022-04-16T11:37:31.835070Z",
     "shell.execute_reply.started": "2022-04-16T11:37:31.235738Z"
    }
   },
   "outputs": [
    {
     "data": {
      "text/plain": [
       "Text(0.5, 1.0, 'No of reviews under each category')"
      ]
     },
     "execution_count": 18,
     "metadata": {},
     "output_type": "execute_result"
    },
    {
     "data": {
      "image/png": "[encoded data removed]",
      "text/plain": [
       "<Figure size 720x504 with 1 Axes>"
      ]
     },
     "metadata": {},
     "output_type": "display_data"
    }
   ],
   "source": [
    "import matplotlib.pyplot as plt\n",
    "import numpy as np\n",
    "plt.rcdefaults()\n",
    "%matplotlib inline\n",
    "no_of_zeros = input_data[column_names[1:]].astype(bool).sum(axis=0).sort_values()\n",
    "\n",
    "plt.figure(figsize=(10,7))\n",
    "plt.barh(np.arange(len(column_names[1:])), no_of_zeros.values, align='center', alpha=0.5)\n",
    "plt.yticks(np.arange(len(column_names[1:])), no_of_zeros.index)\n",
    "plt.xlabel('No of reviews')\n",
    "plt.ylabel('Categories')\n",
    "plt.title('No of reviews under each category')"
   ]
  },
  {
   "cell_type": "markdown",
   "metadata": {},
   "source": [
    "Let us look at how many users have given rating for each category"
   ]
  },
  {
   "cell_type": "markdown",
   "metadata": {},
   "source": [
    "No of users given rating to bakeries and gyms are the least"
   ]
  },
  {
   "cell_type": "markdown",
   "metadata": {},
   "source": [
    "Let us have a look at the summary of ratings given by users for various categories"
   ]
  },
  {
   "cell_type": "code",
   "execution_count": 19,
   "metadata": {
    "execution": {
     "iopub.execute_input": "2022-04-16T11:37:31.838350Z",
     "iopub.status.busy": "2022-04-16T11:37:31.837912Z",
     "iopub.status.idle": "2022-04-16T11:37:31.848641Z",
     "shell.execute_reply": "2022-04-16T11:37:31.847522Z",
     "shell.execute_reply.started": "2022-04-16T11:37:31.838285Z"
    }
   },
   "outputs": [],
   "source": [
    "no_of_reviews = input_data[column_names[1:]].astype(bool).sum(axis=1).value_counts()"
   ]
  },
  {
   "cell_type": "code",
   "execution_count": 20,
   "metadata": {
    "execution": {
     "iopub.execute_input": "2022-04-16T11:37:31.850560Z",
     "iopub.status.busy": "2022-04-16T11:37:31.850087Z",
     "iopub.status.idle": "2022-04-16T11:37:32.281186Z",
     "shell.execute_reply": "2022-04-16T11:37:32.280014Z",
     "shell.execute_reply.started": "2022-04-16T11:37:31.850514Z"
    }
   },
   "outputs": [
    {
     "data": {
      "text/plain": [
       "Text(0.5, 1.0, 'No of Categories vs No of reviews')"
      ]
     },
     "execution_count": 20,
     "metadata": {},
     "output_type": "execute_result"
    },
    {
     "data": {
      "image/png": "[encoded data removed]",
      "text/plain": [
       "<Figure size 720x504 with 1 Axes>"
      ]
     },
     "metadata": {},
     "output_type": "display_data"
    }
   ],
   "source": [
    "plt.figure(figsize=(10,7))\n",
    "plt.bar(np.arange(len(no_of_reviews)), no_of_reviews.values, align='center', alpha=0.5)\n",
    "plt.xticks(np.arange(len(no_of_reviews)), no_of_reviews.index)\n",
    "plt.ylabel('No of reviews')\n",
    "plt.xlabel('No of categories')\n",
    "plt.title('No of Categories vs No of reviews')"
   ]
  },
  {
   "cell_type": "markdown",
   "metadata": {},
   "source": [
    "Around 3500 users have given a rating for all the 24 categories and the least no of rating given by a user is 15. So for users with lesser number of ratings a recommender system can be built"
   ]
  },
  {
   "cell_type": "code",
   "execution_count": 21,
   "metadata": {
    "execution": {
     "iopub.execute_input": "2022-04-16T11:37:32.282850Z",
     "iopub.status.busy": "2022-04-16T11:37:32.282601Z",
     "iopub.status.idle": "2022-04-16T11:37:32.290477Z",
     "shell.execute_reply": "2022-04-16T11:37:32.289290Z",
     "shell.execute_reply.started": "2022-04-16T11:37:32.282807Z"
    }
   },
   "outputs": [],
   "source": [
    "avg_rating = input_data[column_names[1:]].mean()\n",
    "avg_rating = avg_rating.sort_values()"
   ]
  },
  {
   "cell_type": "code",
   "execution_count": 22,
   "metadata": {
    "execution": {
     "iopub.execute_input": "2022-04-16T11:37:32.291941Z",
     "iopub.status.busy": "2022-04-16T11:37:32.291540Z",
     "iopub.status.idle": "2022-04-16T11:37:32.862181Z",
     "shell.execute_reply": "2022-04-16T11:37:32.861290Z",
     "shell.execute_reply.started": "2022-04-16T11:37:32.291900Z"
    }
   },
   "outputs": [
    {
     "data": {
      "text/plain": [
       "Text(0.5, 1.0, 'Average rating per Category')"
      ]
     },
     "execution_count": 22,
     "metadata": {},
     "output_type": "execute_result"
    },
    {
     "data": {
      "image/png": "[encoded data removed]",
      "text/plain": [
       "<Figure size 720x504 with 1 Axes>"
      ]
     },
     "metadata": {},
     "output_type": "display_data"
    }
   ],
   "source": [
    "plt.figure(figsize=(10,7))\n",
    "plt.barh(np.arange(len(column_names[1:])), avg_rating.values, align='center', alpha=0.5)\n",
    "plt.yticks(np.arange(len(column_names[1:])), avg_rating.index)\n",
    "plt.xlabel('Average Rating')\n",
    "plt.title('Average rating per Category')"
   ]
  },
  {
   "cell_type": "markdown",
   "metadata": {},
   "source": [
    "Malls have the highest average rating and gyms have the lowest average rating implying that travellers prefer malls and least preferres is gym. We can even relate this to the common phenomena that gyms are not usually visited by tourists"
   ]
  },
  {
   "cell_type": "markdown",
   "metadata": {},
   "source": [
    "Let us basket the different categories into higher levels and do an analysis to see if there is any influence of the type of the tourist attraction"
   ]
  },
  {
   "cell_type": "code",
   "execution_count": 23,
   "metadata": {
    "execution": {
     "iopub.execute_input": "2022-04-16T11:37:32.864218Z",
     "iopub.status.busy": "2022-04-16T11:37:32.863602Z",
     "iopub.status.idle": "2022-04-16T11:37:32.870616Z",
     "shell.execute_reply": "2022-04-16T11:37:32.869941Z",
     "shell.execute_reply.started": "2022-04-16T11:37:32.864154Z"
    }
   },
   "outputs": [],
   "source": [
    "entertainment = ['theatres', 'dance_clubs', 'malls']\n",
    "food_travel = ['restaurants', 'pubs_bars', 'burger_pizza_shops', 'juice_bars', 'bakeries', 'cafes']\n",
    "places_of_stay = ['hotels_other_lodgings', 'resorts']\n",
    "historical = ['churches', 'museums', 'art_galleries', 'monuments']\n",
    "nature = ['beaches', 'parks', 'zoo', 'view_points', 'gardens']\n",
    "services = ['local_services', 'swimming_pools', 'gyms', 'beauty_spas']"
   ]
  },
  {
   "cell_type": "code",
   "execution_count": 24,
   "metadata": {
    "execution": {
     "iopub.execute_input": "2022-04-16T11:37:32.872138Z",
     "iopub.status.busy": "2022-04-16T11:37:32.871860Z",
     "iopub.status.idle": "2022-04-16T11:37:32.887894Z",
     "shell.execute_reply": "2022-04-16T11:37:32.887022Z",
     "shell.execute_reply.started": "2022-04-16T11:37:32.872071Z"
    }
   },
   "outputs": [],
   "source": [
    "df_category_reviews = pd.DataFrame(columns = ['entertainment', 'food_travel', 'places_of_stay', 'historical', 'nature', 'services'])"
   ]
  },
  {
   "cell_type": "code",
   "execution_count": 25,
   "metadata": {
    "execution": {
     "iopub.execute_input": "2022-04-16T11:37:32.889326Z",
     "iopub.status.busy": "2022-04-16T11:37:32.888934Z",
     "iopub.status.idle": "2022-04-16T11:37:32.914549Z",
     "shell.execute_reply": "2022-04-16T11:37:32.913684Z",
     "shell.execute_reply.started": "2022-04-16T11:37:32.889285Z"
    }
   },
   "outputs": [],
   "source": [
    "df_category_reviews['entertainment'] = input_data[entertainment].mean(axis = 1)\n",
    "df_category_reviews['food_travel'] = input_data[food_travel].mean(axis = 1)\n",
    "df_category_reviews['places_of_stay'] = input_data[places_of_stay].mean(axis = 1)\n",
    "df_category_reviews['historical'] = input_data[historical].mean(axis = 1)\n",
    "df_category_reviews['nature'] = input_data[nature].mean(axis = 1)\n",
    "df_category_reviews['services'] = input_data[services].mean(axis = 1)"
   ]
  },
  {
   "cell_type": "code",
   "execution_count": 26,
   "metadata": {
    "execution": {
     "iopub.execute_input": "2022-04-16T11:37:32.915889Z",
     "iopub.status.busy": "2022-04-16T11:37:32.915531Z",
     "iopub.status.idle": "2022-04-16T11:37:32.959247Z",
     "shell.execute_reply": "2022-04-16T11:37:32.958429Z",
     "shell.execute_reply.started": "2022-04-16T11:37:32.915850Z"
    }
   },
   "outputs": [
    {
     "data": {
      "text/html": [
       "<div>\n",
       "<style scoped>\n",
       "    .dataframe tbody tr th:only-of-type {\n",
       "        vertical-align: middle;\n",
       "    }\n",
       "\n",
       "    .dataframe tbody tr th {\n",
       "        vertical-align: top;\n",
       "    }\n",
       "\n",
       "    .dataframe thead th {\n",
       "        text-align: right;\n",
       "    }\n",
       "</style>\n",
       "<table border=\"1\" class=\"dataframe\">\n",
       "  <thead>\n",
       "    <tr style=\"text-align: right;\">\n",
       "      <th></th>\n",
       "      <th>entertainment</th>\n",
       "      <th>food_travel</th>\n",
       "      <th>places_of_stay</th>\n",
       "      <th>historical</th>\n",
       "      <th>nature</th>\n",
       "      <th>services</th>\n",
       "    </tr>\n",
       "  </thead>\n",
       "  <tbody>\n",
       "    <tr>\n",
       "      <th>count</th>\n",
       "      <td>5456.000000</td>\n",
       "      <td>5456.000000</td>\n",
       "      <td>5456.000000</td>\n",
       "      <td>5456.000000</td>\n",
       "      <td>5456.000000</td>\n",
       "      <td>5456.000000</td>\n",
       "    </tr>\n",
       "    <tr>\n",
       "      <th>mean</th>\n",
       "      <td>2.501045</td>\n",
       "      <td>2.027203</td>\n",
       "      <td>2.222609</td>\n",
       "      <td>2.021809</td>\n",
       "      <td>2.227604</td>\n",
       "      <td>1.330440</td>\n",
       "    </tr>\n",
       "    <tr>\n",
       "      <th>std</th>\n",
       "      <td>0.722411</td>\n",
       "      <td>0.549360</td>\n",
       "      <td>0.886588</td>\n",
       "      <td>0.584988</td>\n",
       "      <td>0.662531</td>\n",
       "      <td>0.580788</td>\n",
       "    </tr>\n",
       "    <tr>\n",
       "      <th>min</th>\n",
       "      <td>1.120000</td>\n",
       "      <td>0.721667</td>\n",
       "      <td>0.730000</td>\n",
       "      <td>0.557500</td>\n",
       "      <td>0.576000</td>\n",
       "      <td>0.205000</td>\n",
       "    </tr>\n",
       "    <tr>\n",
       "      <th>25%</th>\n",
       "      <td>1.963333</td>\n",
       "      <td>1.650000</td>\n",
       "      <td>1.470000</td>\n",
       "      <td>1.647500</td>\n",
       "      <td>1.762000</td>\n",
       "      <td>0.937500</td>\n",
       "    </tr>\n",
       "    <tr>\n",
       "      <th>50%</th>\n",
       "      <td>2.453333</td>\n",
       "      <td>2.027500</td>\n",
       "      <td>1.885000</td>\n",
       "      <td>1.977500</td>\n",
       "      <td>2.160000</td>\n",
       "      <td>1.245000</td>\n",
       "    </tr>\n",
       "    <tr>\n",
       "      <th>75%</th>\n",
       "      <td>2.916667</td>\n",
       "      <td>2.433750</td>\n",
       "      <td>3.160000</td>\n",
       "      <td>2.392500</td>\n",
       "      <td>2.656000</td>\n",
       "      <td>1.685000</td>\n",
       "    </tr>\n",
       "    <tr>\n",
       "      <th>max</th>\n",
       "      <td>5.000000</td>\n",
       "      <td>3.873333</td>\n",
       "      <td>5.000000</td>\n",
       "      <td>4.322500</td>\n",
       "      <td>4.520000</td>\n",
       "      <td>3.937500</td>\n",
       "    </tr>\n",
       "  </tbody>\n",
       "</table>\n",
       "</div>"
      ],
      "text/plain": [
       "       entertainment  food_travel     ...            nature     services\n",
       "count    5456.000000  5456.000000     ...       5456.000000  5456.000000\n",
       "mean        2.501045     2.027203     ...          2.227604     1.330440\n",
       "std         0.722411     0.549360     ...          0.662531     0.580788\n",
       "min         1.120000     0.721667     ...          0.576000     0.205000\n",
       "25%         1.963333     1.650000     ...          1.762000     0.937500\n",
       "50%         2.453333     2.027500     ...          2.160000     1.245000\n",
       "75%         2.916667     2.433750     ...          2.656000     1.685000\n",
       "max         5.000000     3.873333     ...          4.520000     3.937500\n",
       "\n",
       "[8 rows x 6 columns]"
      ]
     },
     "execution_count": 26,
     "metadata": {},
     "output_type": "execute_result"
    }
   ],
   "source": [
    "df_category_reviews.describe()"
   ]
  },
  {
   "cell_type": "markdown",
   "metadata": {},
   "source": [
    "Entertainment has the highest average rating and Services have the lowest rating implying that people are more interested in entertainment"
   ]
  },
  {
   "cell_type": "markdown",
   "metadata": {},
   "source": [
    "###### Recommender Engines"
   ]
  },
  {
   "cell_type": "markdown",
   "metadata": {},
   "source": [
    "###### Collaborative Filtering based recommender"
   ]
  },
  {
   "cell_type": "markdown",
   "metadata": {},
   "source": [
    "###### Recommender based on kNN"
   ]
  },
  {
   "cell_type": "code",
   "execution_count": 27,
   "metadata": {
    "execution": {
     "iopub.execute_input": "2022-04-16T11:37:32.960661Z",
     "iopub.status.busy": "2022-04-16T11:37:32.960313Z",
     "iopub.status.idle": "2022-04-16T11:37:33.972369Z",
     "shell.execute_reply": "2022-04-16T11:37:33.971417Z",
     "shell.execute_reply.started": "2022-04-16T11:37:32.960622Z"
    }
   },
   "outputs": [],
   "source": [
    "from sklearn.neighbors import NearestNeighbors"
   ]
  },
  {
   "cell_type": "code",
   "execution_count": 28,
   "metadata": {
    "execution": {
     "iopub.execute_input": "2022-04-16T11:37:33.974575Z",
     "iopub.status.busy": "2022-04-16T11:37:33.974157Z",
     "iopub.status.idle": "2022-04-16T11:37:33.990434Z",
     "shell.execute_reply": "2022-04-16T11:37:33.989437Z",
     "shell.execute_reply.started": "2022-04-16T11:37:33.974503Z"
    }
   },
   "outputs": [],
   "source": [
    "input_data_matrix = input_data[column_names[1:]].values\n",
    "knn_model = NearestNeighbors(n_neighbors=5).fit(input_data_matrix)"
   ]
  },
  {
   "cell_type": "code",
   "execution_count": 29,
   "metadata": {
    "execution": {
     "iopub.execute_input": "2022-04-16T11:37:33.992402Z",
     "iopub.status.busy": "2022-04-16T11:37:33.991997Z",
     "iopub.status.idle": "2022-04-16T11:37:34.004850Z",
     "shell.execute_reply": "2022-04-16T11:37:34.003747Z",
     "shell.execute_reply.started": "2022-04-16T11:37:33.992306Z"
    }
   },
   "outputs": [],
   "source": [
    "query_index = np.random.choice(input_data[column_names[1:]].shape[0])\n",
    "distances, indices = knn_model.kneighbors(input_data[column_names[1:]].iloc[query_index, :].values.reshape(1,-1), n_neighbors = 5)"
   ]
  },
  {
   "cell_type": "code",
   "execution_count": 30,
   "metadata": {
    "execution": {
     "iopub.execute_input": "2022-04-16T11:37:34.006817Z",
     "iopub.status.busy": "2022-04-16T11:37:34.006397Z",
     "iopub.status.idle": "2022-04-16T11:37:34.053366Z",
     "shell.execute_reply": "2022-04-16T11:37:34.052669Z",
     "shell.execute_reply.started": "2022-04-16T11:37:34.006769Z"
    }
   },
   "outputs": [
    {
     "name": "stdout",
     "output_type": "stream",
     "text": [
      "['swimming_pools']\n"
     ]
    }
   ],
   "source": [
    "def compare_df(index, ind):        \n",
    "    zero_cols_in = input_data.loc[index].astype(bool)\n",
    "    zero_df_in = pd.DataFrame(zero_cols_in[zero_cols_in == True]).reset_index(level = 0)\n",
    "    in_wo_rating = zero_df_in['index']\n",
    "    sug_user = input_data.loc[ind]\n",
    "    zero_cols_sug = sug_user.astype(bool)\n",
    "    zero_df_sug = pd.DataFrame(zero_cols_sug[zero_cols_sug == True]).reset_index(level = 0)\n",
    "    sug_wo_rating = zero_df_sug['index']\n",
    "    sugg_list = list(set(sug_wo_rating) - set(in_wo_rating))\n",
    "    return sugg_list\n",
    "def recommend_knn(index):\n",
    "    distances, indices = knn_model.kneighbors(input_data[column_names[1:]].iloc[index, :].values.reshape(1,-1), n_neighbors = 10)\n",
    "    distances = np.sort(distances)\n",
    "    for i in range(0,len(indices[0])):\n",
    "        ind = np.where(distances.flatten() == distances[0][i])[0][0]\n",
    "        sug_list = compare_df(index, indices[0][i]) \n",
    "        if len(sug_list) > 0:\n",
    "            break\n",
    "    return sug_list\n",
    "print(recommend_knn(16))                                              "
   ]
  }
 ],
 "metadata": {
  "kernelspec": {
   "display_name": "Python 3",
   "language": "python",
   "name": "python3"
  },
  "language_info": {
   "codemirror_mode": {
    "name": "ipython",
    "version": 3
   },
   "file_extension": ".py",
   "mimetype": "text/x-python",
   "name": "python",
   "nbconvert_exporter": "python",
   "pygments_lexer": "ipython3",
   "version": "3.6.4"
  }
 },
 "nbformat": 4,
 "nbformat_minor": 4
}
